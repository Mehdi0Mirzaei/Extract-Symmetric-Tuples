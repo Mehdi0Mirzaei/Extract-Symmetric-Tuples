{
 "cells": [
  {
   "cell_type": "code",
   "execution_count": 6,
   "id": "4457ac34",
   "metadata": {},
   "outputs": [
    {
     "name": "stdout",
     "output_type": "stream",
     "text": [
      "The original list is : [(6, 7), (2, 3), (7, 6), (9, 8), (10, 2), (8, 9)]\n",
      "The Symmetric tuples : {(6, 7), (8, 9)}\n"
     ]
    }
   ],
   "source": [
    "# initializing list\n",
    "test_list = [(6, 7), (2, 3), (7, 6), (9, 8), (10, 2), (8, 9)]\n",
    " \n",
    "# printing original list\n",
    "print(\"The original list is : \" + str(test_list))\n",
    " \n",
    "# Extract Symmetric Tuples\n",
    "# Using dictionary comprehension + set()\n",
    "temp = set(test_list) & {(b, a) for a, b in test_list}\n",
    "res = {(a, b) for a, b in temp if a < b}\n",
    " \n",
    "# printing result \n",
    "print(\"The Symmetric tuples : \" + str(res))"
   ]
  },
  {
   "cell_type": "code",
   "execution_count": null,
   "id": "dcd2304f",
   "metadata": {},
   "outputs": [],
   "source": []
  }
 ],
 "metadata": {
  "kernelspec": {
   "display_name": "Python 3 (ipykernel)",
   "language": "python",
   "name": "python3"
  },
  "language_info": {
   "codemirror_mode": {
    "name": "ipython",
    "version": 3
   },
   "file_extension": ".py",
   "mimetype": "text/x-python",
   "name": "python",
   "nbconvert_exporter": "python",
   "pygments_lexer": "ipython3",
   "version": "3.9.13"
  }
 },
 "nbformat": 4,
 "nbformat_minor": 5
}
